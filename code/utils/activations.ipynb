{
 "cells": [
  {
   "cell_type": "markdown",
   "id": "fa16cf1a",
   "metadata": {},
   "source": [
    "# Step function\n",
    "\n",
    "It returns 1 if x > 0 and 0 otherwise"
   ]
  },
  {
   "cell_type": "code",
   "execution_count": 1,
   "id": "6783b672",
   "metadata": {},
   "outputs": [],
   "source": [
    "def step_fn(x):\n",
    "    return 1 if x >= 0 else 0"
   ]
  },
  {
   "cell_type": "code",
   "execution_count": 3,
   "id": "c04ca27b",
   "metadata": {},
   "outputs": [
    {
     "name": "stdout",
     "output_type": "stream",
     "text": [
      "1\n",
      "0\n",
      "1\n",
      "1\n",
      "1\n"
     ]
    }
   ],
   "source": [
    "print(step_fn(10))\n",
    "print(step_fn(-10))\n",
    "print(step_fn(0))\n",
    "print(step_fn(1))\n",
    "print(step_fn(0.5))"
   ]
  },
  {
   "cell_type": "markdown",
   "id": "a4d22cc3",
   "metadata": {},
   "source": [
    "# Sigmoid function\n",
    "\n",
    "Function that returns a value between 0 and 1"
   ]
  },
  {
   "cell_type": "code",
   "execution_count": 2,
   "id": "b467c392",
   "metadata": {},
   "outputs": [],
   "source": [
    "from numpy import exp as np_exp\n",
    "def sigmoid_fn(x):\n",
    "    return 1 / (1 + np_exp(-x))"
   ]
  },
  {
   "cell_type": "code",
   "execution_count": 4,
   "id": "0bf8bb42",
   "metadata": {},
   "outputs": [
    {
     "name": "stdout",
     "output_type": "stream",
     "text": [
      "0.9999546021312976\n",
      "4.5397868702434395e-05\n",
      "0.5\n",
      "0.7310585786300049\n",
      "0.6224593312018546\n"
     ]
    }
   ],
   "source": [
    "print(sigmoid_fn(10))\n",
    "print(sigmoid_fn(-10))\n",
    "print(sigmoid_fn(0))\n",
    "print(sigmoid_fn(1))\n",
    "print(sigmoid_fn(0.5))"
   ]
  },
  {
   "cell_type": "markdown",
   "id": "75b5fe4a",
   "metadata": {},
   "source": [
    "# Hyperbolic tangent function\n",
    "\n",
    "Function that returns a value between -1 and 1. \n",
    "Commonly used in neural networks applied to computer vision problems."
   ]
  },
  {
   "cell_type": "code",
   "execution_count": null,
   "id": "171b59c7",
   "metadata": {},
   "outputs": [],
   "source": [
    "from numpy import exp as np_exp\n",
    "def tanh_fn(x):\n",
    "    return (np_exp(x) - np_exp(-x)) / (np_exp(x) + np_exp(-x))"
   ]
  },
  {
   "cell_type": "code",
   "execution_count": 6,
   "id": "a6649915",
   "metadata": {},
   "outputs": [
    {
     "name": "stdout",
     "output_type": "stream",
     "text": [
      "0.9999999958776926\n",
      "-0.9999999958776926\n",
      "0.0\n",
      "0.7615941559557649\n",
      "0.4621171572600098\n"
     ]
    }
   ],
   "source": [
    "print(tanh_fn(10))\n",
    "print(tanh_fn(-10))\n",
    "print(tanh_fn(0))\n",
    "print(tanh_fn(1))\n",
    "print(tanh_fn(0.5))"
   ]
  },
  {
   "cell_type": "markdown",
   "id": "1a95c8b8",
   "metadata": {},
   "source": [
    "# Rectified Linear Unit (ReLU)\n",
    "\n",
    "Function that returns the maximum between 0 and x.\n",
    "Commonly used in hidden layers of neural networks to process non-linear data."
   ]
  },
  {
   "cell_type": "code",
   "execution_count": 11,
   "id": "6f4f2c0b",
   "metadata": {},
   "outputs": [],
   "source": [
    "def relu_fn(x):\n",
    "    return max(0, x)"
   ]
  },
  {
   "cell_type": "code",
   "execution_count": 12,
   "id": "2d076608",
   "metadata": {},
   "outputs": [
    {
     "name": "stdout",
     "output_type": "stream",
     "text": [
      "10\n",
      "0\n",
      "0\n",
      "1\n",
      "0.5\n"
     ]
    }
   ],
   "source": [
    "print(relu_fn(10))\n",
    "print(relu_fn(-10))\n",
    "print(relu_fn(0))\n",
    "print(relu_fn(1))\n",
    "print(relu_fn(0.5))"
   ]
  },
  {
   "cell_type": "markdown",
   "id": "f10000f5",
   "metadata": {},
   "source": [
    "# Softmax function\n",
    "\n",
    "Function that returns the probability of a given class in a multi-class classification problem.\n",
    "Commonly used in output layers of multi-class neural networks."
   ]
  },
  {
   "cell_type": "code",
   "execution_count": 13,
   "id": "35e28d87",
   "metadata": {},
   "outputs": [],
   "source": [
    "def softmax_fn(x):\n",
    "    exp_x = np_exp(x)\n",
    "    return exp_x / exp_x.sum()"
   ]
  },
  {
   "cell_type": "code",
   "execution_count": 16,
   "id": "fc8430a8",
   "metadata": {},
   "outputs": [
    {
     "name": "stdout",
     "output_type": "stream",
     "text": [
      "[0.19759194 0.65602835 0.14637971]\n",
      "[0.30060961 0.33222499 0.3671654 ]\n"
     ]
    }
   ],
   "source": [
    "print(softmax_fn([0.5, 1.7, 0.2]))\n",
    "print(softmax_fn([2.0, 2.1, 2.2]))"
   ]
  },
  {
   "cell_type": "markdown",
   "id": "3106b2b9",
   "metadata": {},
   "source": [
    "# Linear activation function\n",
    "\n",
    "Function that returns the same value as the input.\n",
    "Commonly used in regression problems."
   ]
  },
  {
   "cell_type": "code",
   "execution_count": 18,
   "id": "cf1793d1",
   "metadata": {},
   "outputs": [],
   "source": [
    "def linear_fn(x):\n",
    "    return x"
   ]
  },
  {
   "cell_type": "code",
   "execution_count": 19,
   "id": "8fa1efb2",
   "metadata": {},
   "outputs": [
    {
     "name": "stdout",
     "output_type": "stream",
     "text": [
      "10\n",
      "-10\n",
      "0\n",
      "1\n",
      "0.5\n",
      "2.0\n",
      "2.1\n"
     ]
    }
   ],
   "source": [
    "print(linear_fn(10))\n",
    "print(linear_fn(-10))\n",
    "print(linear_fn(0))\n",
    "print(linear_fn(1))\n",
    "print(linear_fn(0.5))\n",
    "print(linear_fn(2.0))\n",
    "print(linear_fn(2.1))"
   ]
  },
  {
   "cell_type": "markdown",
   "id": "cd817165",
   "metadata": {},
   "source": [
    "# Exercise"
   ]
  },
  {
   "cell_type": "code",
   "execution_count": 20,
   "id": "774e7b07",
   "metadata": {},
   "outputs": [
    {
     "name": "stdout",
     "output_type": "stream",
     "text": [
      "Soma: 2.1\n",
      "Sigmoid: 0.89\n",
      "Tanh: 0.97\n",
      "ReLU: 2.10\n",
      "Linear: 2.10\n"
     ]
    }
   ],
   "source": [
    "soma = 2.1\n",
    "\n",
    "print(f\"Soma: {soma}\")\n",
    "print(f\"Sigmoid: {sigmoid_fn(soma):.2f}\")\n",
    "print(f\"Tanh: {tanh_fn(soma):.2f}\")\n",
    "print(f\"ReLU: {relu_fn(soma):.2f}\")\n",
    "print(f\"Linear: {linear_fn(soma):.2f}\")"
   ]
  },
  {
   "cell_type": "code",
   "execution_count": 31,
   "id": "cf13e161",
   "metadata": {},
   "outputs": [
    {
     "name": "stdout",
     "output_type": "stream",
     "text": [
      "MAE: 0.2875\n",
      "MSE: 0.151225\n",
      "RMSE: 0.3888765871070152\n"
     ]
    },
    {
     "data": {
      "text/plain": [
       "0.7241328042976616"
      ]
     },
     "execution_count": 31,
     "metadata": {},
     "output_type": "execute_result"
    }
   ],
   "source": [
    "import numpy as np\n",
    "classe = [1, 0, 1, 0]\n",
    "calculado = [0.3, 0.02, 0.89, 0.32]\n",
    "\n",
    "error = np.array(classe) - np.array(calculado)\n",
    "\n",
    "mae = np.mean(np.abs(error))\n",
    "print(f\"MAE: {mae}\")\n",
    "\n",
    "mse = np.mean(np.square(error))\n",
    "print(f\"MSE: {mse}\")\n",
    "\n",
    "rmse = np.sqrt(mse)\n",
    "print(f\"RMSE: {rmse}\")\n",
    "\n",
    "1 - np.mean([mae, mse, rmse])"
   ]
  }
 ],
 "metadata": {
  "kernelspec": {
   "display_name": "Python 3 (ipykernel)",
   "language": "python",
   "name": "python3"
  },
  "language_info": {
   "codemirror_mode": {
    "name": "ipython",
    "version": 3
   },
   "file_extension": ".py",
   "mimetype": "text/x-python",
   "name": "python",
   "nbconvert_exporter": "python",
   "pygments_lexer": "ipython3",
   "version": "3.12.3"
  }
 },
 "nbformat": 4,
 "nbformat_minor": 5
}
